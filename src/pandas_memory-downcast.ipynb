{
 "cells": [
  {
   "cell_type": "markdown",
   "id": "214242df",
   "metadata": {},
   "source": [
    "## Minimizing memory in pandas"
   ]
  },
  {
   "cell_type": "markdown",
   "id": "35de802e",
   "metadata": {},
   "source": []
  },
  {
   "cell_type": "code",
   "execution_count": null,
   "id": "79d12532",
   "metadata": {},
   "outputs": [],
   "source": [
    "# !pip install pandas-downcast"
   ]
  },
  {
   "cell_type": "code",
   "execution_count": null,
   "id": "278bfbf8",
   "metadata": {},
   "outputs": [],
   "source": [
    "import numpy as np\n",
    "import pandas as pd\n",
    "pd.options.display.max_columns = None\n",
    "import pdcast as pdc\n",
    "import numpy as np"
   ]
  },
  {
   "cell_type": "markdown",
   "id": "18fb8c2f",
   "metadata": {},
   "source": [
    "### Example from PyPI"
   ]
  },
  {
   "cell_type": "code",
   "execution_count": null,
   "id": "f41bd4e4",
   "metadata": {},
   "outputs": [],
   "source": [
    "# big_int = 1e15\n",
    "# a = np.linspace(big_int + 1, big_int + 100 , 100, dtype=int)\n",
    "# a[0]\n"
   ]
  },
  {
   "cell_type": "code",
   "execution_count": null,
   "id": "628646af",
   "metadata": {},
   "outputs": [],
   "source": [
    "big_int = 1e15\n",
    "data = {\n",
    "    \"integers\": np.linspace(1, 100, 100, dtype=int),\n",
    "    \"big_integers\": np.linspace(big_int + 1, big_int + 100 , 100, dtype=int),\n",
    "    \"floats\": np.linspace(1, 1000, 100).round(2),\n",
    "    \"booleans\": np.random.choice([True, False], 100),\n",
    "    \"binaries\": np.random.choice([0, 1], 100),\n",
    "    \"categories\": np.random.choice([\"foo\", \"bar\", \"baz\"], 100),\n",
    "}\n",
    "\n",
    "\n",
    "df = pd.DataFrame(data)\n",
    "    \n",
    "# make the df bigger\n",
    "df = pd.concat([df] * 5_000)\n",
    "\n",
    "print(df.shape)\n",
    "df.head()"
   ]
  },
  {
   "cell_type": "code",
   "execution_count": null,
   "id": "a44d4ec2",
   "metadata": {},
   "outputs": [],
   "source": [
    "df.info()"
   ]
  },
  {
   "cell_type": "code",
   "execution_count": null,
   "id": "a3ceaa17",
   "metadata": {},
   "outputs": [],
   "source": [
    "raw_mem = df.memory_usage(deep=True).sum() / 1024**2\n",
    "raw_mem"
   ]
  },
  {
   "cell_type": "code",
   "execution_count": null,
   "id": "9c1999d4",
   "metadata": {},
   "outputs": [],
   "source": [
    "# note that it doensn't handle nans well by default if the other float values in the column can be cast to ints\n",
    "df_temp = df.copy()\n",
    "df_temp['integers'] = np.where(df_temp['integers'] <= 3, np.nan, df['integers'])\n",
    "df_temp['big_integers'] = np.where(df_temp.index <= 3, np.nan, df['big_integers'])\n",
    "df_temp.head()"
   ]
  },
  {
   "cell_type": "code",
   "execution_count": null,
   "id": "0f3b9c78",
   "metadata": {},
   "outputs": [],
   "source": [
    "df_downcast_temp = pdc.downcast(df_temp)\n",
    "df_downcast_temp.info()\n"
   ]
  },
  {
   "cell_type": "code",
   "execution_count": null,
   "id": "c5bcddf8",
   "metadata": {},
   "outputs": [],
   "source": [
    "# Downcast DataFrame to minimum viable schema.\n",
    "\n",
    "\n",
    "df_downcast = pdc.downcast(df)\n",
    "df_downcast.info()"
   ]
  },
  {
   "cell_type": "code",
   "execution_count": null,
   "id": "cce2d0d3",
   "metadata": {},
   "outputs": [],
   "source": [
    "# Infer minimum schema for DataFrame.\n",
    "schema = pdc.infer_schema(df)\n",
    "schema"
   ]
  },
  {
   "cell_type": "code",
   "execution_count": null,
   "id": "e9d5285f",
   "metadata": {},
   "outputs": [],
   "source": [
    "# Coerce DataFrame to schema - required if converting float to Pandas Integer.\n",
    "df_new = pdc.coerce_df(df, schema)\n",
    "dcast_mem = df_new.memory_usage(deep=True).sum() / 1024**2\n",
    "dcast_mem"
   ]
  },
  {
   "cell_type": "code",
   "execution_count": null,
   "id": "b8f62d2f",
   "metadata": {},
   "outputs": [],
   "source": [
    "# new dataset is what percentage smaller than the original\n",
    "mem_savings_as_perc = 100 * (raw_mem - dcast_mem) / raw_mem\n",
    "mem_savings_as_perc"
   ]
  },
  {
   "cell_type": "markdown",
   "id": "a4e129e8",
   "metadata": {},
   "source": [
    "### Flights Data"
   ]
  },
  {
   "cell_type": "code",
   "execution_count": null,
   "id": "b3262e51",
   "metadata": {},
   "outputs": [],
   "source": [
    "%%time\n",
    "# read in data (flights or parking violations)\n",
    "\n",
    "my_cols = [\n",
    "    \"Cancelled\",\n",
    "    \"CancellationCode\",\n",
    "    \"Diverted\",\n",
    "    \"LateAircraftDelay\"]\n",
    "\n",
    "flights = pd.read_csv(\"../data/DelayedFlights.csv\")#, usecols=None)\n",
    "# df = pd.read_csv(\"parkingviolations-copy-from-files-api.csv\", low_memory=False)\n",
    "print(flights.shape)\n",
    "flights.head(3)"
   ]
  },
  {
   "cell_type": "code",
   "execution_count": null,
   "id": "f44d7ab8",
   "metadata": {},
   "outputs": [],
   "source": [
    "flights.info(show_counts=True)"
   ]
  },
  {
   "cell_type": "code",
   "execution_count": null,
   "id": "5fec4c26",
   "metadata": {},
   "outputs": [],
   "source": [
    "flights.memory_usage(deep=True).sum() / 1024**2"
   ]
  },
  {
   "cell_type": "code",
   "execution_count": null,
   "id": "87c44cbd",
   "metadata": {},
   "outputs": [],
   "source": [
    "# Downcast DataFrame to minimum viable schema.\n",
    "df_downcast = pdc.downcast(flights.head(10))\n",
    "df_downcast.info()\n",
    "\n",
    "# # Infer minimum schema for DataFrame.\n",
    "# schema = pdc.infer_schema(df)\n",
    "\n",
    "# # Coerce DataFrame to schema - required if converting float to Pandas Integer.\n",
    "# df_new = pdc.coerce_df(df, schema)"
   ]
  },
  {
   "cell_type": "code",
   "execution_count": null,
   "id": "b037397e",
   "metadata": {},
   "outputs": [],
   "source": [
    "# find the problem column\n",
    "cols_used = []\n",
    "for c in flights.columns:\n",
    "    print(c)\n",
    "    cols_used.append(c)\n",
    "    df_downcast = pdc.downcast(flights[cols_used])\n"
   ]
  },
  {
   "cell_type": "code",
   "execution_count": null,
   "id": "2a83cdee",
   "metadata": {},
   "outputs": [],
   "source": [
    "df_downcast = pdc.downcast(flights[[\"CRSElapsedTime\"]].head(10))\n"
   ]
  },
  {
   "cell_type": "code",
   "execution_count": null,
   "id": "b439fd67",
   "metadata": {},
   "outputs": [],
   "source": [
    "temp = flights[[\"CRSElapsedTime\"]].copy().iloc[150_000:150_500,:]\n",
    "df_downcast = pdc.downcast(temp)\n",
    "df_downcast.head()"
   ]
  },
  {
   "cell_type": "code",
   "execution_count": null,
   "id": "8d4b7249",
   "metadata": {},
   "outputs": [],
   "source": []
  },
  {
   "cell_type": "code",
   "execution_count": null,
   "id": "a6127136",
   "metadata": {},
   "outputs": [],
   "source": [
    "# Infer minimum schema for DataFrame.\n",
    "flights_schema = pdc.infer_schema(flights)\n",
    "flights_schema\n",
    "\n",
    "# Coerce DataFrame to schema - required if converting float to Pandas Integer.\n",
    "flights_new = pdc.coerce_df(flights, flights_schema)"
   ]
  },
  {
   "cell_type": "code",
   "execution_count": null,
   "id": "1110ca7c",
   "metadata": {},
   "outputs": [],
   "source": [
    "flights_new"
   ]
  },
  {
   "cell_type": "code",
   "execution_count": null,
   "id": "788b93db",
   "metadata": {},
   "outputs": [],
   "source": [
    "# Create dataframe using dictionary\n",
    "# data = {'Student ID': [10, 11, 12, 13, 14], \n",
    "#         'Age': [23, 22, 24, 22, 25],\n",
    "#         'Weight': [66, 72, np.inf, 68, -np.inf]}\n",
    "  \n",
    "df = flights\n",
    "  \n",
    "# display(df)\n",
    "  \n",
    "# checking for infinity\n",
    "print()\n",
    "print(\"checking for infinity\")\n",
    "  \n",
    "ds = df.isin([np.inf, -np.inf])\n",
    "# print(ds)\n",
    "  \n",
    "# printing the count of infinity values\n",
    "print()\n",
    "print(\"printing the count of infinity values\")\n",
    "  \n",
    "count = np.isinf(df).values.sum()\n",
    "print(\"It contains \" + str(count) + \" infinite values\")\n",
    "  \n",
    "# counting infinity in a particular column name\n",
    "c = np.isinf(df['Weight']).values.sum()\n",
    "print(\"It contains \" + str(c) + \" infinite values\")\n",
    "  \n",
    "# printing column name where infinity is present\n",
    "print()\n",
    "print(\"printing column name where infinity is present\")\n",
    "col_name = df.columns.to_series()[np.isinf(df).any()]\n",
    "print(col_name)\n",
    "  \n",
    "# printing row index with infinity\n",
    "print()\n",
    "print(\"printing row index with infinity \")\n",
    "  \n",
    "r = df.index[np.isinf(df).any(1)]\n",
    "print(r)"
   ]
  },
  {
   "cell_type": "code",
   "execution_count": null,
   "id": "2b4b13a1",
   "metadata": {},
   "outputs": [],
   "source": []
  },
  {
   "cell_type": "code",
   "execution_count": null,
   "id": "8fbb41bd",
   "metadata": {},
   "outputs": [],
   "source": []
  },
  {
   "cell_type": "code",
   "execution_count": null,
   "id": "c2b478d9",
   "metadata": {},
   "outputs": [],
   "source": []
  },
  {
   "cell_type": "markdown",
   "id": "20500d40",
   "metadata": {},
   "source": [
    "### using the downcast library"
   ]
  },
  {
   "cell_type": "code",
   "execution_count": null,
   "id": "4ba6eca7",
   "metadata": {},
   "outputs": [],
   "source": [
    "!pip install pandas-downcast"
   ]
  },
  {
   "cell_type": "code",
   "execution_count": null,
   "id": "c4db5226",
   "metadata": {},
   "outputs": [],
   "source": [
    "df.columns.tolist()\n",
    "# keeps = [\n",
    "#     \"Year\",\n",
    "#     \"Month\",\n",
    "#     \"DayofMonth\",\n",
    "#     \"DayOfWeek\",\n",
    "#     \"DepTime\",\n",
    "#     \"CRSDepTime\",\n",
    "#     \"ArrTime\",\n",
    "#     \"CRSArrTime\",\n",
    "#     \"UniqueCarrier\",\n",
    "#     \"FlightNum\",\n",
    "#     \"TailNum\",\n",
    "#     \"ActualElapsedTime\",\n",
    "#     \"CRSElapsedTime\",\n",
    "#     \"AirTime\",\n",
    "#     \"Origin\",\n",
    "#     \"Dest\",\n",
    "#     \"Distance\",\n",
    "#     \"TaxiIn\",\n",
    "#     \"TaxiOut\",\n",
    "#     \"Cancelled\",\n",
    "#     \"CancellationCode\",\n",
    "#     \"Diverted\",\n",
    "#     \"LateAircraftDelay\"\n",
    "# ]\n",
    "# df[keeps].memory_usage(deep=True).sum() / 1024 ** 2"
   ]
  },
  {
   "cell_type": "code",
   "execution_count": null,
   "id": "b723b733",
   "metadata": {},
   "outputs": [],
   "source": [
    "# df[keeps].info()"
   ]
  },
  {
   "cell_type": "code",
   "execution_count": null,
   "id": "aa64e380",
   "metadata": {},
   "outputs": [],
   "source": [
    "# df = df[keeps]"
   ]
  },
  {
   "cell_type": "code",
   "execution_count": null,
   "id": "3b88d2b0",
   "metadata": {},
   "outputs": [],
   "source": [
    "# memory usage in megabytes\n",
    "# df.memory_usage(deep=True).sum() / 1_000_000\n",
    "df.memory_usage(deep=True).sum() / 1024 ** 2"
   ]
  },
  {
   "cell_type": "code",
   "execution_count": null,
   "id": "7c518096",
   "metadata": {},
   "outputs": [],
   "source": [
    "df.info(memory_usage='deep')"
   ]
  },
  {
   "cell_type": "code",
   "execution_count": null,
   "id": "3da7c210",
   "metadata": {},
   "outputs": [],
   "source": [
    "for dtype in ['float','int','object']:\n",
    "    selected_dtype = df.select_dtypes(include=[dtype])\n",
    "    mean_usage_b = selected_dtype.memory_usage(deep=True).mean()\n",
    "    mean_usage_mb = mean_usage_b / 1024 ** 2\n",
    "    print(\"Average memory usage for {} columns: {:03.2f} MB\".format(dtype,mean_usage_mb))"
   ]
  },
  {
   "cell_type": "code",
   "execution_count": null,
   "id": "3e3386fc",
   "metadata": {},
   "outputs": [],
   "source": [
    "# ranges of possible values for each integer subtype\n",
    "int_types = [\"uint8\", \"int8\", \"int16\"]\n",
    "for it in int_types:\n",
    "    print(np.iinfo(it))"
   ]
  },
  {
   "cell_type": "code",
   "execution_count": null,
   "id": "49edf048",
   "metadata": {},
   "outputs": [],
   "source": [
    "# We're going to be calculating memory usage a lot,\n",
    "# so we'll create a function to save us some time!\n",
    "def mem_usage(pandas_obj):\n",
    "    if isinstance(pandas_obj,pd.DataFrame):\n",
    "        usage_b = pandas_obj.memory_usage(deep=True).sum()\n",
    "    else: # we assume if not a df it's a series\n",
    "        usage_b = pandas_obj.memory_usage(deep=True)\n",
    "    usage_mb = usage_b / 1024 ** 2 # convert bytes to megabytes\n",
    "    return \"{:03.2f} MB\".format(usage_mb)"
   ]
  },
  {
   "cell_type": "code",
   "execution_count": null,
   "id": "74c77833",
   "metadata": {},
   "outputs": [],
   "source": [
    "# convert integer columns\n",
    "df_int = df.select_dtypes(include=['int'])\n",
    "converted_int = df_int.apply(pd.to_numeric,downcast='unsigned')\n",
    "\n",
    "\n",
    "print(mem_usage(df_int))\n",
    "print(mem_usage(converted_int))\n",
    "\n",
    "compare_ints = pd.concat([df_int.dtypes,converted_int.dtypes],axis=1)\n",
    "compare_ints.columns = ['before','after']\n",
    "compare_ints.apply(pd.Series.value_counts)"
   ]
  },
  {
   "cell_type": "code",
   "execution_count": null,
   "id": "ea7eed3c",
   "metadata": {},
   "outputs": [],
   "source": [
    "# convert float columns\n",
    "df_float = df.select_dtypes(include=['float'])\n",
    "converted_float = df_float.apply(pd.to_numeric,downcast='float')\n",
    "print(mem_usage(df_float))\n",
    "print(mem_usage(converted_float))\n",
    "compare_floats = pd.concat([df_float.dtypes,converted_float.dtypes],axis=1)\n",
    "compare_floats.columns = ['before','after']\n",
    "compare_floats.apply(pd.Series.value_counts)"
   ]
  },
  {
   "cell_type": "code",
   "execution_count": null,
   "id": "3daa026f",
   "metadata": {},
   "outputs": [],
   "source": [
    "# see how total df memory compares after all numeric conversions\n",
    "optimized_df = df.copy()\n",
    "optimized_df[converted_int.columns] = converted_int\n",
    "optimized_df[converted_float.columns] = converted_float\n",
    "\n",
    "print(mem_usage(df))\n",
    "print(mem_usage(optimized_df))"
   ]
  },
  {
   "cell_type": "markdown",
   "id": "86fb2dfb",
   "metadata": {},
   "source": [
    "#### Object Memory Notes\n",
    "- object types use a variable amount of memory depending on what is stored within each string"
   ]
  },
  {
   "cell_type": "code",
   "execution_count": null,
   "id": "34707205",
   "metadata": {},
   "outputs": [],
   "source": [
    "from sys import getsizeof\n",
    "s1 = 'working out'\n",
    "s2 = 'memory usage for'\n",
    "s3 = 'strings in python is fun!'\n",
    "s4 = 'strings in python is fun!'\n",
    "for s in [s1, s2, s3, s4]:\n",
    "    print(getsizeof(s))"
   ]
  },
  {
   "cell_type": "code",
   "execution_count": null,
   "id": "b3e4838d",
   "metadata": {},
   "outputs": [],
   "source": [
    "# look at the obect columns\n",
    "df_obj = df.select_dtypes(include=['object']).copy()\n",
    "df_obj.describe()"
   ]
  },
  {
   "cell_type": "code",
   "execution_count": null,
   "id": "95922de4",
   "metadata": {},
   "outputs": [],
   "source": [
    "# convert to category type as long as the number of unique values is less than 50% of the total values\n",
    "converted_obj = pd.DataFrame()\n",
    "for col in df_obj.columns:\n",
    "    num_unique_values = len(df_obj[col].unique())\n",
    "    num_total_values = len(df_obj[col])\n",
    "    if num_unique_values / num_total_values < 0.5:\n",
    "        converted_obj.loc[:,col] = df_obj[col].astype('category')\n",
    "    else:\n",
    "        converted_obj.loc[:,col] = df_obj[col]"
   ]
  },
  {
   "cell_type": "code",
   "execution_count": null,
   "id": "ceddd733",
   "metadata": {},
   "outputs": [],
   "source": [
    "# compare memory usage of object cols vs category\n",
    "print(mem_usage(df_obj))\n",
    "print(mem_usage(converted_obj))\n",
    "compare_obj = pd.concat([df_obj.dtypes,converted_obj.dtypes],axis=1)\n",
    "compare_obj.columns = ['before','after']\n",
    "compare_obj.apply(pd.Series.value_counts)"
   ]
  },
  {
   "cell_type": "code",
   "execution_count": null,
   "id": "c0505585",
   "metadata": {},
   "outputs": [],
   "source": [
    "optimized_df[converted_obj.columns] = converted_obj\n",
    "print(mem_usage(df))\n",
    "print(mem_usage(optimized_df))"
   ]
  },
  {
   "cell_type": "code",
   "execution_count": null,
   "id": "353a2524",
   "metadata": {},
   "outputs": [],
   "source": [
    "optimized_df.info()"
   ]
  },
  {
   "cell_type": "code",
   "execution_count": null,
   "id": "25b5cae4",
   "metadata": {},
   "outputs": [],
   "source": [
    "dtypes = optimized_df.dtypes\n",
    "dtypes_col = dtypes.index\n",
    "dtypes_type = [i.name for i in dtypes.values]\n",
    "column_types = dict(zip(dtypes_col, dtypes_type))\n",
    "# rather than print all 161 items, we'll\n",
    "# sample 10 key/value pairs from the dict\n",
    "# and print it nicely using prettyprint\n",
    "preview = first2pairs = {key:value for key,value in list(column_types.items())}\n",
    "print(preview)"
   ]
  },
  {
   "cell_type": "code",
   "execution_count": null,
   "id": "08777e8e",
   "metadata": {},
   "outputs": [],
   "source": []
  }
 ],
 "metadata": {
  "kernelspec": {
   "display_name": "pandas-mem",
   "language": "python",
   "name": "python3"
  },
  "language_info": {
   "codemirror_mode": {
    "name": "ipython",
    "version": 3
   },
   "file_extension": ".py",
   "mimetype": "text/x-python",
   "name": "python",
   "nbconvert_exporter": "python",
   "pygments_lexer": "ipython3",
   "version": "3.9.9 (main, Apr 11 2022, 15:32:11) \n[Clang 13.1.6 (clang-1316.0.21.2.3)]"
  },
  "vscode": {
   "interpreter": {
    "hash": "972839a9ff17c3c3af97755a23573c22aa8697384583fd7438e29ab845a99eef"
   }
  }
 },
 "nbformat": 4,
 "nbformat_minor": 5
}
